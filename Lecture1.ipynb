{
 "cells": [
  {
   "cell_type": "markdown",
   "metadata": {},
   "source": [
    "# MatSE580 Guest Lecture 1\n",
    "## Introduction\n",
    "\n",
    "In this guest lecture we will cover:\n",
    "1. [Manipulating and analyzing materials](#Manipulating-and-analyzing-materials) - using [pymatgen](https://github.com/materialsproject/pymatgen)\n",
    "2. [Setting up a small NoSQL database on the cloud to synchronize decentralized processing](#Setting-up-MongoDB) - using [MongoDB Atlas](https://www.mongodb.com/atlas) Free Tier\n",
    "3. [Interacting with the database](#pymongo) and visualizing the results - using [pymongo](https://github.com/mongodb/mongo-python-driver) library and [MongoDB Charts](https://www.mongodb.com/docs/charts/) service\n",
    "4. [Installing machine learning (ML) tools](#pysipfenn-install) to predict stability of materials - using [pySIPFENN](https://pysipfenn.readthedocs.io/en/stable/)"
   ]
  },
  {
   "cell_type": "markdown",
   "metadata": {},
   "source": [
    "## Setting everything up"
   ]
  },
  {
   "cell_type": "code",
   "execution_count": null,
   "metadata": {},
   "outputs": [],
   "source": []
  },
  {
   "cell_type": "markdown",
   "metadata": {},
   "source": [
    "## Manipulating and analyzing materials"
   ]
  },
  {
   "cell_type": "markdown",
   "metadata": {},
   "source": []
  },
  {
   "cell_type": "markdown",
   "metadata": {},
   "source": [
    "## Setting up MongoDB"
   ]
  },
  {
   "cell_type": "markdown",
   "metadata": {},
   "source": []
  },
  {
   "cell_type": "markdown",
   "metadata": {},
   "source": [
    "# Pymongo"
   ]
  },
  {
   "cell_type": "markdown",
   "metadata": {},
   "source": []
  },
  {
   "cell_type": "markdown",
   "metadata": {},
   "source": [
    "# pySIPFENN Install"
   ]
  },
  {
   "cell_type": "markdown",
   "metadata": {},
   "source": []
  }
 ],
 "metadata": {
  "language_info": {
   "name": "python"
  },
  "orig_nbformat": 4
 },
 "nbformat": 4,
 "nbformat_minor": 2
}
