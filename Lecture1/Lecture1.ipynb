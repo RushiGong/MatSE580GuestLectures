{
 "cells": [
  {
   "cell_type": "markdown",
   "metadata": {},
   "source": [
    "# MatSE580 Guest Lecture 1\n",
    "## Introduction\n",
    "\n",
    "In this guest lecture, we will cover:\n",
    "1. [Overview of databases and pycalphad-xml](#Overview)\n",
    "2. [Ta-O with associate model and ionic model: Ta-O system](#Ta-O-example)\n",
    "3. [Databases with MQMQA](#MQMQA)"
   ]
  },
  {
   "cell_type": "markdown",
   "metadata": {},
   "source": [
    "## Overview\n",
    "\n",
    "### Databases\n",
    "\n",
    "CALPHAD database files are made by researchers who model the Gibbs energy functions. Now pycalphad supports \n",
    "\n",
    "* The Thermo-Calc DataBase (TDB) format, usually with the file extension `.tdb`\n",
    "* The ChemSage database format, usually with the file extension `.dat`\n",
    "* The XML database format, with the file extension `.xml`\n",
    "\n",
    "The database can be load in and convert to .xml format through following code\n",
    "\n",
    "```python\n",
    "from pycalphad import Database\n",
    "db = Database(\"path/to/database.tdb\")\n",
    "db.to_file(\"path/to/database.xml\")\n",
    "```\n",
    "\n",
    "### Installation of pycalphad-xml\n",
    "\n",
    "***pycalphad-xml*** is XML database plugin for PyCalphad (https://github.com/pycalphad/pycalphad-xml)\n",
    "\n",
    "PyCalphad version 0.10.1 or later will automatically detect this packge as a plugin\n",
    "\n",
    "```pip install pycalphad-xml```"
   ]
  },
  {
   "cell_type": "markdown",
   "metadata": {},
   "source": [
    "## Ta-O Example: database with associate model and ionic model"
   ]
  },
  {
   "cell_type": "markdown",
   "metadata": {},
   "source": [
    "### Database conversion"
   ]
  },
  {
   "cell_type": "code",
   "execution_count": null,
   "metadata": {},
   "outputs": [],
   "source": [
    "from pycalphad import Database\n",
    "dbf_am = Database(\"Ta_O_Associate_Solution.TDB\")\n",
    "dbf_am.to_file(\"Ta_O_Associate_Solution.TDB.xml\")"
   ]
  },
  {
   "cell_type": "code",
   "execution_count": null,
   "metadata": {},
   "outputs": [],
   "source": [
    "#Try to convert ionic liquid database 'Ta_O_Ionic_Liquid.TDB' to xml\n",
    "\n"
   ]
  },
  {
   "cell_type": "markdown",
   "metadata": {},
   "source": [
    "### Liquid model"
   ]
  },
  {
   "cell_type": "markdown",
   "metadata": {},
   "source": []
  }
 ],
 "metadata": {
  "kernelspec": {
   "display_name": "580demo",
   "language": "python",
   "name": "python3"
  },
  "language_info": {
   "codemirror_mode": {
    "name": "ipython",
    "version": 3
   },
   "file_extension": ".py",
   "mimetype": "text/x-python",
   "name": "python",
   "nbconvert_exporter": "python",
   "pygments_lexer": "ipython3",
   "version": "3.1.0"
  },
  "orig_nbformat": 4
 },
 "nbformat": 4,
 "nbformat_minor": 2
}
